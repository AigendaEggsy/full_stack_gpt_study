{
 "cells": [
  {
   "cell_type": "markdown",
   "metadata": {},
   "source": [
    "### Model\n",
    "| model |\n",
    "| --- |\n",
    "| gpt-3.5-turbo-0125 |\n",
    "| gpt-4-0125-preview |"
   ]
  },
  {
   "cell_type": "code",
   "execution_count": 4,
   "metadata": {},
   "outputs": [],
   "source": [
    "from langchain.chat_models import ChatOpenAI\n",
    "\n",
    "chat = ChatOpenAI(\n",
    "    model_name=\"gpt-3.5-turbo-0125\",\n",
    "    temperature = 0.1\n",
    ")"
   ]
  },
  {
   "cell_type": "code",
   "execution_count": 6,
   "metadata": {},
   "outputs": [
    {
     "data": {
      "text/plain": [
       "AIMessage(content='서울과 도쿄의 직선 거리는 약 1,200km 정도입니다. 제 이름은 루카스입니다.')"
      ]
     },
     "execution_count": 6,
     "metadata": {},
     "output_type": "execute_result"
    }
   ],
   "source": [
    "from langchain.schema import HumanMessage, AIMessage, SystemMessage\n",
    "\n",
    "messages = [\n",
    "    SystemMessage(content=\"You are a geography expert. And you only reply in {language}\"),\n",
    "    AIMessage(content=\"Hi my name is {name}!\"),\n",
    "    HumanMessage(content=\"서울과 도쿄의 거리는 얼마인가요. 너의 이름은 뭐니?\"),\n",
    "]\n",
    "\n",
    "chat.predict_messages(messages)"
   ]
  },
  {
   "cell_type": "code",
   "execution_count": 9,
   "metadata": {},
   "outputs": [
    {
     "data": {
      "text/plain": [
       "'한국과 미국 사이의 거리는 대략 10,000km입니다. 제 이름은 AiGENDA입니다.'"
      ]
     },
     "execution_count": 9,
     "metadata": {},
     "output_type": "execute_result"
    }
   ],
   "source": [
    "from langchain.chat_models import ChatOpenAI\n",
    "from langchain.prompts import PromptTemplate, ChatPromptTemplate\n",
    "\n",
    "chat = ChatOpenAI(\n",
    "    model_name=\"gpt-3.5-turbo-0125\",\n",
    "    temperature = 0.1\n",
    ")\n",
    "\n",
    "template = ChatPromptTemplate.from_messages(\n",
    "    [\n",
    "        (\"system\", \"You are a geography expert. And you only reply in {language}.\"),\n",
    "        (\"ai\", \"Hi my name is {name}!\"),\n",
    "        (\"human\", \"What is the distance between {country_a} and {country_b}. Also, what is your name?\"),\n",
    "    ]\n",
    ")\n",
    "\n",
    "prompt = template.format_messages(\n",
    "    language = \"Korean\",\n",
    "    name = \"AiGENDA\",\n",
    "    country_a = \"Korea\",\n",
    "    country_b = \"USA\"\n",
    ")\n",
    "\n",
    "chat.predict_messages(prompt).content"
   ]
  },
  {
   "cell_type": "markdown",
   "metadata": {},
   "source": [
    "## 3.3 OutputParser and LCEL "
   ]
  },
  {
   "cell_type": "code",
   "execution_count": 20,
   "metadata": {},
   "outputs": [
    {
     "data": {
      "text/plain": [
       "['1. 손흥민',\n",
       " '2. 황의조',\n",
       " '3. 김민재',\n",
       " '4. 김영권',\n",
       " '5. 김민규',\n",
       " '6. 김진수',\n",
       " '7. 김영광',\n",
       " '8. 이재성',\n",
       " '9. 황인범',\n",
       " '10. 김승대']"
      ]
     },
     "execution_count": 20,
     "metadata": {},
     "output_type": "execute_result"
    }
   ],
   "source": [
    "from langchain.chat_models import ChatOpenAI\n",
    "from langchain.prompts import ChatPromptTemplate\n",
    "from langchain.schema import BaseOutputParser\n",
    "\n",
    "class CommaOutputParser(BaseOutputParser):\n",
    "    def parse(self, text):\n",
    "        items = text.strip().split(\",\")\n",
    "        \n",
    "        return list(map(str.strip, items))\n",
    "\n",
    "chat = ChatOpenAI(\n",
    "    model_name=\"gpt-3.5-turbo-0125\",\n",
    "    temperature = 0\n",
    ")\n",
    "\n",
    "template = ChatPromptTemplate.from_messages(\n",
    "    [\n",
    "        (\"system\", \"You are a list generating machine. Everything you are asked will be answered with a comma separated list of max {max_items}. Do NOT reply with anything else. And you only reply in {language}.\"),\n",
    "        (\"ai\", \"Hi my name is {name}!\"),\n",
    "        (\"human\", \"{question}\"),\n",
    "    ]\n",
    ")\n",
    "\n",
    "prompt = template.format_messages(\n",
    "    name = \"aigenda\",\n",
    "    language = \"Korean\",\n",
    "    max_items = 10,\n",
    "    question = \"2024 한국 축구 국가대표 맴버\",\n",
    ")\n",
    "\n",
    "result = chat.predict_messages(prompt)\n",
    "\n",
    "p = CommaOutputParser()\n",
    "\n",
    "p.parse(result.content)"
   ]
  },
  {
   "cell_type": "code",
   "execution_count": 5,
   "metadata": {},
   "outputs": [
    {
     "data": {
      "text/plain": [
       "['손흥민', '황의조', '김민재', '김영권', '김민재']"
      ]
     },
     "execution_count": 5,
     "metadata": {},
     "output_type": "execute_result"
    }
   ],
   "source": [
    "from langchain.chat_models import ChatOpenAI\n",
    "from langchain.prompts import ChatPromptTemplate\n",
    "from langchain.schema import BaseOutputParser\n",
    "\n",
    "template = ChatPromptTemplate.from_messages(\n",
    "    [\n",
    "        (\"system\", \"You are a list generating machine. Everything you are asked will be answered with a comma separated list of max {max_items}. Do NOT reply with anything else. And you only reply in {language}.\"),\n",
    "        (\"ai\", \"Hi my name is {name}!\"),\n",
    "        (\"human\", \"{question}\"),\n",
    "    ]\n",
    ")\n",
    "\n",
    "chat = ChatOpenAI(\n",
    "    model_name=\"gpt-3.5-turbo-0125\",\n",
    "    temperature = 0\n",
    ")\n",
    "\n",
    "class CommaOutputParser(BaseOutputParser):\n",
    "    def parse(self, text):\n",
    "        items = text.strip().split(\",\")\n",
    "        \n",
    "        return list(map(str.strip, items))\n",
    "\n",
    "chain = template | chat | CommaOutputParser()    \n",
    "\n",
    "chain.invoke({\n",
    "    \"name\":\"aigenda\",\n",
    "    \"language\":\"Korean\",\n",
    "    \"max_items\":5,\n",
    "    \"question\":\"2024 한국 축구 국가대표 맴버\",\n",
    "})"
   ]
  },
  {
   "cell_type": "markdown",
   "metadata": {},
   "source": [
    "## 3.4 Chaining Chains"
   ]
  },
  {
   "cell_type": "code",
   "execution_count": 32,
   "metadata": {},
   "outputs": [
    {
     "name": "stdout",
     "output_type": "stream",
     "text": [
      "kimchi, bulgogi, bibimbap, tteokbokki김치는 대체할 수 있는 재료가 없습니다. \n",
      "\n",
      "불고기를 채식주의자용으로 만들려면 대체 고기로 대신할 수 있습니다. 대체 고기로는 대부분 식물성 단백질이나 버섯을 사용합니다. 대체 고기를 사용할 때는 불고기 소스와 함께 볶아내면 됩니다.\n",
      "\n",
      "비빔밥은 채소나 과일을 활용하여 대체할 수 있습니다. 대체 재료로는 아보카도, 콩, 토마토, 당근, 오이 등을 사용할 수 있습니다. 이를 채소와 함께 밥 위에 올려 비빔밥 소스와 함께 섞어먹으면 됩니다.\n",
      "\n",
      "떡볶이는 떡 대신에 떡 대신에 고구마, 양배추, 어묵, 버섯 등을 사용하여 대체할 수 있습니다. 떡 대신에 이러한 채소나 버섯을 썰어서 떡볶이 소스와 함께 볶아내면 됩니다."
     ]
    },
    {
     "data": {
      "text/plain": [
       "AIMessageChunk(content='김치는 대체할 수 있는 재료가 없습니다. \\n\\n불고기를 채식주의자용으로 만들려면 대체 고기로 대신할 수 있습니다. 대체 고기로는 대부분 식물성 단백질이나 버섯을 사용합니다. 대체 고기를 사용할 때는 불고기 소스와 함께 볶아내면 됩니다.\\n\\n비빔밥은 채소나 과일을 활용하여 대체할 수 있습니다. 대체 재료로는 아보카도, 콩, 토마토, 당근, 오이 등을 사용할 수 있습니다. 이를 채소와 함께 밥 위에 올려 비빔밥 소스와 함께 섞어먹으면 됩니다.\\n\\n떡볶이는 떡 대신에 떡 대신에 고구마, 양배추, 어묵, 버섯 등을 사용하여 대체할 수 있습니다. 떡 대신에 이러한 채소나 버섯을 썰어서 떡볶이 소스와 함께 볶아내면 됩니다.')"
      ]
     },
     "execution_count": 32,
     "metadata": {},
     "output_type": "execute_result"
    }
   ],
   "source": [
    "from langchain.chat_models import ChatOpenAI\n",
    "from langchain.prompts import ChatPromptTemplate\n",
    "from langchain.callbacks import StreamingStdOutCallbackHandler\n",
    "\n",
    "chat = ChatOpenAI(\n",
    "    model_name=\"gpt-3.5-turbo-0125\",\n",
    "    temperature = 0.1,\n",
    "    streaming=True,\n",
    "    callbacks = [StreamingStdOutCallbackHandler()]\n",
    ")\n",
    "\n",
    "chef_prompt = ChatPromptTemplate.from_messages(\n",
    "    [\n",
    "        (\"system\", \"You are a list generating machine. \\\n",
    "         Everything you are asked will be answered with a comma separated list of max 5 in lowercase. \\\n",
    "         Do NOT reply with anything else.\"),\n",
    "        # (\"human\", \"{question}\"),\n",
    "        (\"human\", \"I want to cook {cuisine} food.\"),\n",
    "    ]\n",
    ")\n",
    "\n",
    "veg_chef_prompt = ChatPromptTemplate.from_messages(\n",
    "    [\n",
    "        (\"system\", \"You are a vegetarian chef specialized on making traditional recipies vegetarian. \\\n",
    "         You find alternative ingredients and explain their preparation. \\\n",
    "         You don't radically modify the recipe. \\\n",
    "         If there is no alternative for a food just say you don't know how to replace it. \\\n",
    "         And you only reply in Korean\"),\n",
    "        (\"human\", \"{recipe}\")\n",
    "    ]\n",
    ")\n",
    "\n",
    "chef_chain = chef_prompt | chat\n",
    "\n",
    "veg_chain = veg_chef_prompt | chat\n",
    "\n",
    "final_chain = {\"recipe\": chef_chain} | veg_chain\n",
    "\n",
    "final_chain.invoke({\"cuisine\":\"korea\"})\n",
    "\n"
   ]
  }
 ],
 "metadata": {
  "kernelspec": {
   "display_name": "base",
   "language": "python",
   "name": "python3"
  },
  "language_info": {
   "codemirror_mode": {
    "name": "ipython",
    "version": 3
   },
   "file_extension": ".py",
   "mimetype": "text/x-python",
   "name": "python",
   "nbconvert_exporter": "python",
   "pygments_lexer": "ipython3",
   "version": "3.11.7"
  }
 },
 "nbformat": 4,
 "nbformat_minor": 2
}
